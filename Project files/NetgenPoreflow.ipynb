{
 "cells": [
  {
   "cell_type": "markdown",
   "metadata": {},
   "source": [
    "# Netgen-Poreflow\n",
    "Project for AGRON 935"
   ]
  },
  {
   "cell_type": "code",
   "execution_count": 67,
   "metadata": {},
   "outputs": [],
   "source": [
    "import os\n",
    "import numpy as np\n",
    "import matplotlib.pyplot as plt\n"
   ]
  },
  {
   "cell_type": "code",
   "execution_count": 100,
   "metadata": {},
   "outputs": [],
   "source": [
    "\n",
    "\n",
    "networks_sizes_list = [10,11 ,12,13, 14, 15, 16]\n",
    "iteration = 1\n",
    "\n",
    "permeability_array = np.zeros((len(networks_sizes_list),len(range(iteration))))\n",
    "formationfactor_array = np.zeros((len(networks_sizes_list),len(range(iteration))))\n",
    "porosity_array = np.zeros((len(networks_sizes_list),len(range(iteration))))\n",
    "\n",
    "\n",
    "# loop for changing the network size and creating netgenInput file and running the poreflow (fluid flow):\n",
    "for i in range(len(networks_sizes_list)):\n",
    "    for j in range(iteration):\n",
    "        network_size = networks_sizes_list[i] \n",
    "        network_3d = str(network_size)+ \" \" +str(network_size)+ \" \"+ str(network_size)\n",
    "\n",
    "        input_text = [\"distrib % Base file \\n\",\n",
    "        network_3d,\"\\n\",\n",
    "        \"0.1 10 0.2 6 % Min throat radius, max throat radius, delta exp, eta exp \\n\",\n",
    "        \"100 100 0.3 2.0 % Min throat length, max throat length, delta exp, eta exp \\n\",\n",
    "        \"0 0 0.2 3.0 % Min aspect ratio, max aspect ratio, delta exp, eta exp \\n\",\n",
    "        \"0.001 0.04811 0.8 1.6 % Triangles: Min G, max G, delta exp, eta exp \\n\",\n",
    "        \"0 1 % Pores: proportion of square and circular pores \\n\",\n",
    "        \"0 1 % Throats: proportion of square and circular throats \\n\",\n",
    "        \"0 % Proportion of pore volume occupied by clay \\n\",\n",
    "        \"6 % Average connection number <= 6 \\n\",\n",
    "        \"T % Use periodic boundary conditions \\n\"]\n",
    "\n",
    "        f= open('netgenInput.dat','w')\n",
    "        f.writelines(input_text)\n",
    "        f.close()\n",
    "\n",
    "        os.system(\"netgen_win32.exe netgenInput.dat\")\n",
    "        os.system(\"poreflow_win32.exe poreflowInput.dat\")\n",
    "\n",
    "        output = open(\"poreflowInput.prt\")\n",
    "        output_lines = output.readlines()\n",
    "        \n",
    "        if \"permeability\" in output_lines[25].split():\n",
    "            \n",
    "            permeability_line = output_lines[25].split()\n",
    "            permeability_array[i][j] = permeability_line[-1]\n",
    "\n",
    "            porosity_line = output_lines[22].split()\n",
    "            porosity_array[i][j] = porosity_line[-1]\n",
    "\n",
    "            formationfactor_line = output_lines[26].split()\n",
    "            formationfactor_array[i][j] = formationfactor_line[-1]\n",
    "        else:\n",
    "            \n",
    "            permeability_line = output_lines[33].split()\n",
    "            permeability_array[i][j] = permeability_line[-1]\n",
    "\n",
    "            porosity_line = output_lines[30].split()\n",
    "            porosity_array[i][j] = porosity_line[-1]\n",
    "\n",
    "            formationfactor_line = output_lines[34].split()\n",
    "            formationfactor_array[i][j] = formationfactor_line[-1]\n",
    "                    \n",
    "# print(permeability_array)\n",
    "# print(formationfactor_array)\n",
    "# print(porosity_array)\n",
    "\n",
    "permeability_means = permeability_array.mean(axis=1)\n",
    "formationfactor_means = formationfactor_array.mean(axis=1)\n",
    "porosity_means = porosity_array.mean(axis=1)"
   ]
  },
  {
   "cell_type": "code",
   "execution_count": 101,
   "metadata": {},
   "outputs": [
    {
     "data": {
      "image/png": "[encoded data removed]",
      "text/plain": [
       "<Figure size 432x288 with 1 Axes>"
      ]
     },
     "metadata": {
      "needs_background": "light"
     },
     "output_type": "display_data"
    },
    {
     "data": {
      "image/png": "[encoded data removed]",
      "text/plain": [
       "<Figure size 432x288 with 1 Axes>"
      ]
     },
     "metadata": {
      "needs_background": "light"
     },
     "output_type": "display_data"
    },
    {
     "data": {
      "image/png": "[encoded data removed]",
      "text/plain": [
       "<Figure size 432x288 with 1 Axes>"
      ]
     },
     "metadata": {
      "needs_background": "light"
     },
     "output_type": "display_data"
    }
   ],
   "source": [
    "plt.scatter(networks_sizes_list, permeability_means, )\n",
    "plt.xlabel('Network Sizes')\n",
    "plt.ylabel(' Permeability (m2)')\n",
    "# plt.ylim(min(permeability_means), max(permeability_means))\n",
    "plt.ylim(0.99*min(permeability_means), 1.01*max(permeability_means))\n",
    "plt.show()\n",
    "\n",
    "plt.scatter(networks_sizes_list, formationfactor_means)\n",
    "plt.xlabel('Network Sizes')\n",
    "plt.ylabel('Formation Factor')\n",
    "plt.ylim(0.99*min(formationfactor_means), 1.01*max(formationfactor_means))\n",
    "plt.show()\n",
    "\n",
    "plt.scatter(networks_sizes_list, porosity_means)\n",
    "plt.xlabel('Network Sizes')\n",
    "plt.ylabel('Porosity (%)')\n",
    "plt.ylim(0.99*min(porosity_means), 1.01*max(porosity_means))\n",
    "plt.show()"
   ]
  },
  {
   "cell_type": "code",
   "execution_count": null,
   "metadata": {},
   "outputs": [],
   "source": []
  }
 ],
 "metadata": {
  "kernelspec": {
   "display_name": "Python 3",
   "language": "python",
   "name": "python3"
  },
  "language_info": {
   "codemirror_mode": {
    "name": "ipython",
    "version": 3
   },
   "file_extension": ".py",
   "mimetype": "text/x-python",
   "name": "python",
   "nbconvert_exporter": "python",
   "pygments_lexer": "ipython3",
   "version": "3.7.1"
  }
 },
 "nbformat": 4,
 "nbformat_minor": 2
}
