{
 "cells": [
  {
   "cell_type": "markdown",
   "metadata": {},
   "source": [
    "# Netgen-Poreflow\n",
    "**Simulating fluid flow in porous media using Poreflow and Netgen porenetwork modeling package**\n",
    "\n",
    "###### Author : Misagh Esmaeilpour (misagh@ksu.edu)\n",
    "\n",
    "###### Semester: Spring 2020\n",
    " \n",
    "---"
   ]
  },
  {
   "cell_type": "markdown",
   "metadata": {},
   "source": [
    "A brief overview of what the following code snippets aim to do is provided <a href=\"https://raw.githubusercontent.com/misagh-esmaeilpour/netgen-poreflow/master/proposal.md\" title=\"proposal\">here</a>.\n",
    "\n",
    "The package that we are using for our simulations was developed by Per Valvatne (2004) which is written in C++ and you can <a href=\"http://www.imperial.ac.uk/earth-science/research/research-groups/perm/research/pore-scale-modelling/software/two-phase-network-modelling-code/\" title=\"download_link\"> download</a> all the executable files and manuals directly from the website of Imperial College London.\n",
    "\n",
    "`netgen_32.exe` is the executable file that generates our porenetworks. This file gets a `.dat` file as an input. This input file consist of all the properties that we want to assign to our porenetworks such as network size, length of pore throats, etc. In our simulations this file is `netgenInput.dat` and since we want to change network size of porenetworks in our simulations we have to create a new `netgenInput.dat` file each time we change this parameter. All information of porenetworks would be saved in four `.dat` files with a prefix that we define for it in `netgenInput.dat`(here I use Porenetworks).\n",
    "\n",
    "`poreflow_32.exe` is the executable file that simulates fluid flow through our generated porenetwork and it gets a `.dat` file as an input too, which would be `poreflowInput.dat` in our simulations. This input file consists of all the properties that we want to assign to our fluid and flow mechanism. In our study all these properties are constant and therefore we will use our pre-written `poreflowInput.dat` for all the simulations.  After running `poreflow_32.exe` all the results will be saved as texts in a file with `.prt` extension (this file would have the same name as the input file for `poreflow_32.exe`, so in our simulations it would be `poreflowInput.prt`  . Therefore we will read this file and extract our desired values which would be permeability, porosity and formation factor out of it.\n",
    "Two other files with a `.out` extension also would be outputed that contain other information such as draining cycle and imbibition cycle, but we are not working with these files.\n",
    "\n",
    "**Note:** If you need to modify your `poreflowInput.dat` for your simulations, you could easily follow the same steps that we have done to modify `netgenInput.dat` and add it to your code.\n",
    "\n",
    "<p>\n",
    "    <img src=\"../Pictures/workflow.jpg\" alt=\"Fig.2\" width=\"700\"/>\n",
    "</p>\n",
    "<p>\n",
    "    <em>Fig.1: The workflow of the project </em>\n",
    "</p>"
   ]
  },
  {
   "cell_type": "code",
   "execution_count": 39,
   "metadata": {},
   "outputs": [],
   "source": [
    "#importing required modules\n",
    "import os\n",
    "import numpy as np\n",
    "import matplotlib.pyplot as plt\n",
    "import datetime\n",
    "import time\n",
    "import pandas as pd"
   ]
  },
  {
   "cell_type": "markdown",
   "metadata": {},
   "source": [
    "First we define a list of the network sizes that we want to simulate and number of iterations for each of the networks.\n",
    "By network size we mean that how many pores we have in each of the three primary directions. For instance the porenetwork shown in the picture below is of size 3, and has 3 * 3 * 3 = 27 pores in it.\n",
    "\n",
    "<p>\n",
    "    <img src=\"../Pictures/pnm.jpg\" alt=\"Fig.2\" width=\"200\"/>\n",
    "</p>\n",
    "<p>\n",
    "    <em>Fig.2: A porenetwork of size 3 (after De La Garza Martínez, 2016) </em>\n",
    "</p>"
   ]
  },
  {
   "cell_type": "code",
   "execution_count": 100,
   "metadata": {},
   "outputs": [],
   "source": [
    "start_time= datetime.datetime.now()\n",
    "\n",
    "networks_sizes = [10, 15, 20] # A list of network sizes for simulations\n",
    "iteration = 2 # Number of iterations"
   ]
  },
  {
   "cell_type": "code",
   "execution_count": null,
   "metadata": {},
   "outputs": [],
   "source": [
    "OneDrive - Kansas State University/Spring 2020/agron935/project/netgen-poreflow/pictures/workflow.jpg"
   ]
  },
  {
   "cell_type": "markdown",
   "metadata": {},
   "source": [
    "At the code snippet below we have also defined the three arrays that will store all of our desired vaules out of simulations."
   ]
  },
  {
   "cell_type": "code",
   "execution_count": 29,
   "metadata": {},
   "outputs": [],
   "source": [
    "# Defining three arrays to store simulation data in them:\n",
    "permeability_array = np.zeros((len(networks_sizes),len(range(iteration))))\n",
    "formationfactor_array = np.zeros((len(networks_sizes),len(range(iteration))))\n",
    "porosity_array = np.zeros((len(networks_sizes),len(range(iteration))))"
   ]
  },
  {
   "cell_type": "markdown",
   "metadata": {},
   "source": [
    "The only parameter that is changed in the \"netgenInput.dat\" is network size.\n",
    "This lambda function will allow us to change network size. Its input argument would be an string like \"20 20 20\".\n",
    "The lambda function defined below takes an string of network size as input and puts it into the list that we will use to create our `netgenInput.dat`."
   ]
  },
  {
   "cell_type": "code",
   "execution_count": 30,
   "metadata": {},
   "outputs": [],
   "source": [
    "net_input = lambda network : [\"Porenetworks % Base file \\n\",\n",
    "        network,\"\\n\",\n",
    "        \"0.1 10 0.2 6 % Min throat radius, max throat radius, delta exp, eta exp \\n\",\n",
    "        \"100 100 0.3 2.0 % Min throat length, max throat length, delta exp, eta exp \\n\",\n",
    "        \"0 0 0.2 3.0 % Min aspect ratio, max aspect ratio, delta exp, eta exp \\n\",\n",
    "        \"0.001 0.04811 0.8 1.6 % Triangles: Min G, max G, delta exp, eta exp \\n\",\n",
    "        \"0 1 % Pores: proportion of square and circular pores \\n\",\n",
    "        \"0 1 % Throats: proportion of square and circular throats \\n\",\n",
    "        \"0 % Proportion of pore volume occupied by clay \\n\",\n",
    "        \"6 % Average connection number <= 6 \\n\",\n",
    "        \"T % Use periodic boundary conditions \\n\"]"
   ]
  },
  {
   "cell_type": "markdown",
   "metadata": {},
   "source": [
    "In the following code snippet, we write `netgenInput.dat` and then will generate porenetworks and right after that simulationg the flow through them starts.\n",
    "Our values of interest would be saved in a .prt (poreflowInput.prt) file that  \"preflow_32.exe\" outputs. And we can easily read these values from this file.\n",
    "Based on experience working with this package we know that porosity, permeability, and formation factor would saved respectively on either lines 22, 25, and 26 or 30, 33, and 34. Also sometimes because of the heavy computations poreflow crashes and will not output anythin. Hence, we handle all three scenarios in the code below."
   ]
  },
  {
   "cell_type": "code",
   "execution_count": 31,
   "metadata": {},
   "outputs": [],
   "source": [
    "# outer for loop changes the network size and inner for loop does the iterations\n",
    "for i in range(len(networks_sizes)):\n",
    "    for j in range(iteration):\n",
    "        #creating network size string \n",
    "        network_3d= (str(networks_sizes[i])+ \" \")*3\n",
    "        input_text= net_input(network_3d)\n",
    "        \n",
    "        # writing input_text in 'netgenInput.dat'\n",
    "        f= open(\"netgenInput.dat\",\"w\")\n",
    "        f.writelines(input_text)\n",
    "        f.close()\n",
    "        \n",
    "        # generating pore networks\n",
    "        os.system(\"netgen_win32.exe netgenInput.dat\")\n",
    "        \n",
    "        # simulating flow through generated porenetworks\n",
    "        os.system(\"poreflow_win32.exe poreflowInput.dat\")\n",
    "        \n",
    "        # reading the .prt output file from poreflow into separated lines\n",
    "        output = open(\"poreflowInput.prt\")\n",
    "        output_lines = output.readlines()\n",
    "        \n",
    "        # putting NaN in case poreflow crashes and does not create the output file completely\n",
    "        if len(output_lines) < 26:\n",
    "            permeability_array[i][j] = np.nan\n",
    "            porosity_array[i][j] = np.nan\n",
    "            formationfactor_array[i][j] = np.nan\n",
    "            \n",
    "        # reading values from the output    \n",
    "        elif \"permeability\" in output_lines[25].split():\n",
    "            permeability_line = output_lines[25].split()\n",
    "            permeability_array[i][j] = permeability_line[-1]\n",
    "            porosity_line = output_lines[22].split()\n",
    "            porosity_array[i][j] = porosity_line[-1]\n",
    "            formationfactor_line = output_lines[26].split()\n",
    "            formationfactor_array[i][j] = formationfactor_line[-1]\n",
    "        else:\n",
    "            permeability_line = output_lines[33].split()\n",
    "            permeability_array[i][j] = permeability_line[-1]\n",
    "            porosity_line = output_lines[30].split()\n",
    "            porosity_array[i][j] = porosity_line[-1]\n",
    "            formationfactor_line = output_lines[34].split()\n",
    "            formationfactor_array[i][j] = formationfactor_line[-1]\n"
   ]
  },
  {
   "cell_type": "markdown",
   "metadata": {},
   "source": [
    "After storing the desired values of all iterations, we get a mean value of all iterations per network size for each of the three arrays, and will use the mean value as the representative value for that variable. For insatace we would have a value that represents permeability for network size of 10, another one for 20 and so on."
   ]
  },
  {
   "cell_type": "code",
   "execution_count": 32,
   "metadata": {},
   "outputs": [],
   "source": [
    "# getting mean values for each network size for permeability, porosity, and formation factor\n",
    "permeability_means = np.nanmean(permeability_array, axis=1)\n",
    "formationfactor_means = np.nanmean(formationfactor_array, axis=1)\n",
    "porosity_means = np.nanmean(porosity_array, axis=1)"
   ]
  },
  {
   "cell_type": "markdown",
   "metadata": {},
   "source": [
    "Plots below show that how values of permeability, porosity and, formation factor when we change the size of our porenetworks.\n",
    "\n"
   ]
  },
  {
   "cell_type": "code",
   "execution_count": 33,
   "metadata": {},
   "outputs": [
    {
     "data": {
      "image/png": "[encoded data removed]",
      "text/plain": [
       "<Figure size 432x288 with 1 Axes>"
      ]
     },
     "metadata": {
      "needs_background": "light"
     },
     "output_type": "display_data"
    }
   ],
   "source": [
    "plt.scatter(networks_sizes, permeability_means)\n",
    "plt.xlabel('Network Size')\n",
    "plt.ylabel(' Permeability $(m^{2}$)')\n",
    "plt.ylim(0.99*min(permeability_means), 1.01*max(permeability_means))\n",
    "plt.show()"
   ]
  },
  {
   "cell_type": "code",
   "execution_count": 34,
   "metadata": {},
   "outputs": [
    {
     "data": {
      "image/png": "[encoded data removed]",
      "text/plain": [
       "<Figure size 432x288 with 1 Axes>"
      ]
     },
     "metadata": {
      "needs_background": "light"
     },
     "output_type": "display_data"
    }
   ],
   "source": [
    "plt.scatter(networks_sizes, formationfactor_means)\n",
    "plt.xlabel('Network Size')\n",
    "plt.ylabel('Formation Factor')\n",
    "plt.ylim(0.99*min(formationfactor_means), 1.01*max(formationfactor_means))\n",
    "plt.show()"
   ]
  },
  {
   "cell_type": "code",
   "execution_count": 35,
   "metadata": {},
   "outputs": [
    {
     "data": {
      "image/png": "[encoded data removed]",
      "text/plain": [
       "<Figure size 432x288 with 1 Axes>"
      ]
     },
     "metadata": {
      "needs_background": "light"
     },
     "output_type": "display_data"
    }
   ],
   "source": [
    "plt.scatter(networks_sizes, porosity_means)\n",
    "plt.xlabel('Network Size')\n",
    "plt.ylabel('Porosity (%)')\n",
    "plt.ylim(0.99*min(porosity_means), 1.01*max(porosity_means))\n",
    "plt.show()"
   ]
  },
  {
   "cell_type": "markdown",
   "metadata": {},
   "source": [
    "Now we save these variables into a `.csv` file. Name of it would the date and time when the code was started to run, and the file would be saved in a folder named `csv_output`in the current directory.\n"
   ]
  },
  {
   "cell_type": "code",
   "execution_count": 107,
   "metadata": {},
   "outputs": [
    {
     "name": "stdout",
     "output_type": "stream",
     "text": [
      "The output file name is: 2020-05-04-21-22-35.csv\n"
     ]
    },
    {
     "data": {
      "text/html": [
       "<div>\n",
       "<style scoped>\n",
       "    .dataframe tbody tr th:only-of-type {\n",
       "        vertical-align: middle;\n",
       "    }\n",
       "\n",
       "    .dataframe tbody tr th {\n",
       "        vertical-align: top;\n",
       "    }\n",
       "\n",
       "    .dataframe thead th {\n",
       "        text-align: right;\n",
       "    }\n",
       "</style>\n",
       "<table border=\"1\" class=\"dataframe\">\n",
       "  <thead>\n",
       "    <tr style=\"text-align: right;\">\n",
       "      <th></th>\n",
       "      <th>Network Size</th>\n",
       "      <th>Permeability $(m^{2}$)</th>\n",
       "      <th>Porosity (%)</th>\n",
       "      <th>Formation Factor</th>\n",
       "    </tr>\n",
       "  </thead>\n",
       "  <tbody>\n",
       "    <tr>\n",
       "      <th>0</th>\n",
       "      <td>10</td>\n",
       "      <td>7.532875e-14</td>\n",
       "      <td>0.033008</td>\n",
       "      <td>90.55305</td>\n",
       "    </tr>\n",
       "    <tr>\n",
       "      <th>1</th>\n",
       "      <td>15</td>\n",
       "      <td>3.189048e-13</td>\n",
       "      <td>0.033036</td>\n",
       "      <td>86.98630</td>\n",
       "    </tr>\n",
       "    <tr>\n",
       "      <th>2</th>\n",
       "      <td>20</td>\n",
       "      <td>7.835405e-14</td>\n",
       "      <td>0.033105</td>\n",
       "      <td>87.26550</td>\n",
       "    </tr>\n",
       "  </tbody>\n",
       "</table>\n",
       "</div>"
      ],
      "text/plain": [
       "   Network Size  Permeability $(m^{2}$)  Porosity (%)  Formation Factor\n",
       "0            10            7.532875e-14      0.033008          90.55305\n",
       "1            15            3.189048e-13      0.033036          86.98630\n",
       "2            20            7.835405e-14      0.033105          87.26550"
      ]
     },
     "execution_count": 107,
     "metadata": {},
     "output_type": "execute_result"
    }
   ],
   "source": [
    "#creating a dictionary of the data to then convert it to a pandas dataframe\n",
    "data = {'Network Size':networks_sizes, 'Permeability $(m^{2}$)': permeability_means,'Porosity (%)':porosity_means, 'Formation Factor':formationfactor_means}\n",
    "#creating a pandas dataframe out of data\n",
    "df = pd.DataFrame(data)\n",
    "\n",
    "#creating the 'csv_output' directory if it does not exists already\n",
    "if os.path.isdir('csv_output') == False:\n",
    "    os.mkdir('csv_output')\n",
    "    \n",
    "#creating the name of the csv file\n",
    "file_name = start_time.strftime(\"%Y-%m-%d-%H-%M-%S\") + '.csv'\n",
    "print('The output file name is:',file_name)\n",
    "\n",
    "#exporting the dataframe into a csv file\n",
    "file_path = 'csv_output/'+ file_name \n",
    "df.to_csv(file_path, index=False)\n",
    "df.head(3)\n"
   ]
  },
  {
   "cell_type": "code",
   "execution_count": 138,
   "metadata": {},
   "outputs": [
    {
     "data": {
      "text/plain": [
       "datetime.timedelta(seconds=63, microseconds=932687)"
      ]
     },
     "execution_count": 138,
     "metadata": {},
     "output_type": "execute_result"
    }
   ],
   "source": [
    "endtime= datetime.datetime.now()\n",
    "endtime -start_time"
   ]
  },
  {
   "cell_type": "code",
   "execution_count": null,
   "metadata": {},
   "outputs": [],
   "source": [
    "# Matlab took around 4200 seconds\n",
    "\n",
    "# 5 iter : 100.991184 sec\n",
    "# 10  212.362963 seconds.\n",
    "# 15  316.705312\n",
    "# 20  414.290092\n",
    "# 25  517.466775\n",
    "# 30  629.508653\n"
   ]
  },
  {
   "cell_type": "markdown",
   "metadata": {},
   "source": [
    "##### Conclusion:\n",
    "\n",
    "As we saw in the above figures we can conclude that by increasing the size of the porenetworks we have an increase in permeability while "
   ]
  },
  {
   "cell_type": "markdown",
   "metadata": {},
   "source": [
    "#### References:\n",
    "1. Valvatne, P. H. (2004). Predictive pore-scale modelling of multiphase flow (Doctoral dissertation, Department of Earth Science and Engineering, Imperial College London).\n",
    "2. De La Garza Martínez, P. A. (2016). Pore Network Modeling: Alternative Methods to Account for Trapping and Spatial Correlation. (May), 72."
   ]
  },
  {
   "cell_type": "code",
   "execution_count": null,
   "metadata": {},
   "outputs": [],
   "source": []
  }
 ],
 "metadata": {
  "kernelspec": {
   "display_name": "Python 3",
   "language": "python",
   "name": "python3"
  },
  "language_info": {
   "codemirror_mode": {
    "name": "ipython",
    "version": 3
   },
   "file_extension": ".py",
   "mimetype": "text/x-python",
   "name": "python",
   "nbconvert_exporter": "python",
   "pygments_lexer": "ipython3",
   "version": "3.7.1"
  }
 },
 "nbformat": 4,
 "nbformat_minor": 2
}
