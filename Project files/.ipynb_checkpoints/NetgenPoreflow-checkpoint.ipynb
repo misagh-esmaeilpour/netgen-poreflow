{
 "cells": [
  {
   "cell_type": "markdown",
   "metadata": {},
   "source": [
    "# Netgen-Poreflow\n",
    "Simulating fluid flow inporous media using Poreflow and Netgen porenetwork modeling package\n",
    "\n",
    "###### Author : Misagh Esmaeilpour (misagh@ksu.edu)\n",
    "\n",
    "###### Semester: Spring 2020\n",
    "\n",
    "---"
   ]
  },
  {
   "cell_type": "markdown",
   "metadata": {},
   "source": [
    "A brief overview of what the following code snippets aim to do is provided <a href=\"https://raw.githubusercontent.com/misagh-esmaeilpour/netgen-poreflow/master/proposal.md\" title=\"proposal\">here</a>.\n",
    "\n",
    "The package that we are using for our simulations was developed by Per Valvatne [1] which is written in C++ and you can <a href=\"http://www.imperial.ac.uk/earth-science/research/research-groups/perm/research/pore-scale-modelling/software/two-phase-network-modelling-code/\" title=\"download_link\"> download</a> all the executable files and manuals directly from the website of Imperial College London.\n",
    "\n",
    "\"netgen_32.exe\" is the executable file that generates our porenetworks. This file gets a *.dat file as an input. This input file consist of all the properties that we want to assign to our porenetworks such as network size, length of pore throats, etc. In our simulation this file is \"netgenInput.dat\" and since we want to change network size of porenetworks in our simulations we have to create a new \"netgenInput.dat\" file each time we change this parameter.\n",
    "\n",
    "\"poreflow_32.exe\" is the executable file that simulates fluid flow through our generated porenetwork and it gets a *.dat file as an input too, which would be \"poreflowInput.dat\" in our simulations. This input file consists of all the properties that we want to assign to our fluid and flow mechanism. In our study all these properties are constant and therefore we will use our pre-written \"poreflowInput.dat\" for all the simulations.\n",
    "\n",
    "**Note:** If you need to modify your \"poreflowInput.dat\" for your simulations, you could easily follow the same steps that we have done to modify \"netgenInput.dat\" and add it to your code.\n",
    "\n",
    "After running \"poreflow_32.exe\" all the results will be saved as texts in a .prt file. Therefore we will read this files and extract our desired values which would be permeability, porosity and formation factor.\n"
   ]
  },
  {
   "cell_type": "code",
   "execution_count": 124,
   "metadata": {},
   "outputs": [],
   "source": [
    "#importing required modules\n",
    "import os\n",
    "import numpy as np\n",
    "import matplotlib.pyplot as plt\n",
    "import datetime\n",
    "from numba import jit\n"
   ]
  },
  {
   "cell_type": "markdown",
   "metadata": {},
   "source": [
    "First we define a list of the network sizes that we want to simulate and number of iterations for each of the networks.\n",
    "By network size we mean that how many pores we have in each of the three primary directions. For instance a network of size 10, is a cubic porenetwork that has 10 * 10 * 10 = 1000 pores in it.\n",
    "\n",
    "%%%%%%%%%%% maybe put a pic here of a pnm\n",
    "\n",
    "At the code snippet below we have also defined the three arrays that will store all of our desired vaules out of simulations."
   ]
  },
  {
   "cell_type": "code",
   "execution_count": 111,
   "metadata": {},
   "outputs": [],
   "source": [
    "starttime= datetime.datetime.now()\n",
    "\n",
    "networks_sizes = [10, 20] # A list of network sizes for simulations\n",
    "iteration = 2 # Number of iterations\n",
    "# Defining three arrays to store simulation data:\n",
    "permeability_array = np.zeros((len(networks_sizes),len(range(iteration))))\n",
    "formationfactor_array = np.zeros((len(networks_sizes),len(range(iteration))))\n",
    "porosity_array = np.zeros((len(networks_sizes),len(range(iteration))))"
   ]
  },
  {
   "cell_type": "markdown",
   "metadata": {},
   "source": [
    "The only parameter that is changed in the \"netgenInput.dat\" is network size.\n",
    "This lambda function will allow us to change network. Its input argument would be an string like \"20 20 20\"."
   ]
  },
  {
   "cell_type": "code",
   "execution_count": 116,
   "metadata": {},
   "outputs": [],
   "source": [
    "net_input = lambda network : [\"distrib % Base file \\n\",\n",
    "        network,\"\\n\",\n",
    "        \"0.1 10 0.2 6 % Min throat radius, max throat radius, delta exp, eta exp \\n\",\n",
    "        \"100 100 0.3 2.0 % Min throat length, max throat length, delta exp, eta exp \\n\",\n",
    "        \"0 0 0.2 3.0 % Min aspect ratio, max aspect ratio, delta exp, eta exp \\n\",\n",
    "        \"0.001 0.04811 0.8 1.6 % Triangles: Min G, max G, delta exp, eta exp \\n\",\n",
    "        \"0 1 % Pores: proportion of square and circular pores \\n\",\n",
    "        \"0 1 % Throats: proportion of square and circular throats \\n\",\n",
    "        \"0 % Proportion of pore volume occupied by clay \\n\",\n",
    "        \"6 % Average connection number <= 6 \\n\",\n",
    "        \"T % Use periodic boundary conditions \\n\"]"
   ]
  },
  {
   "cell_type": "markdown",
   "metadata": {},
   "source": []
  },
  {
   "cell_type": "code",
   "execution_count": 127,
   "metadata": {},
   "outputs": [
    {
     "data": {
      "text/plain": [
       "datetime.timedelta(seconds=11, microseconds=743776)"
      ]
     },
     "execution_count": 127,
     "metadata": {},
     "output_type": "execute_result"
    }
   ],
   "source": [
    "## questino: should I find the number of lines by code or this is good??\n",
    "# formationfactor?\n",
    "\n",
    "# loop for changing the network size and creating netgenInput file and running the poreflow (fluid flow):\n",
    "for i in range(len(networks_sizes)):\n",
    "    for j in range(iteration):\n",
    "        #network_3d = str(networks_sizes[i])+ \" \" +str(networks_sizes[i])+ \" \"+ str(networks_sizes[i])\n",
    "        network_3d= (str(networks_sizes[i])+ \" \")*3\n",
    "        input_text= net_input(network_3d)\n",
    "        \n",
    "        # writing input_text in 'netgenInput.dat'\n",
    "        f= open('netgenInput.dat','w')\n",
    "        f.writelines(input_text)\n",
    "        f.close()\n",
    "        \n",
    "        # generating pore networks\n",
    "        os.system(\"netgen_win32.exe netgenInput.dat\")\n",
    "        # simulating flow through generated porenetworks\n",
    "        os.system(\"poreflow_win32.exe poreflowInput.dat\")\n",
    "\n",
    "        output = open(\"poreflowInput.prt\")\n",
    "        output_lines = output.readlines()\n",
    "        if len(output_lines) < 26:\n",
    "            permeability_array[i][j] = np.nan\n",
    "            porosity_array[i][j] = np.nan\n",
    "            formationfactor_array[i][j] = np.nan\n",
    "            \n",
    "        elif \"permeability\" in output_lines[25].split():\n",
    "            permeability_line = output_lines[25].split()\n",
    "            permeability_array[i][j] = permeability_line[-1]\n",
    "\n",
    "            porosity_line = output_lines[22].split()\n",
    "            porosity_array[i][j] = porosity_line[-1]\n",
    "\n",
    "            formationfactor_line = output_lines[26].split()\n",
    "            formationfactor_array[i][j] = formationfactor_line[-1]\n",
    "        else:\n",
    "            permeability_line = output_lines[33].split()\n",
    "            permeability_array[i][j] = permeability_line[-1]\n",
    "\n",
    "            porosity_line = output_lines[30].split()\n",
    "            porosity_array[i][j] = porosity_line[-1]\n",
    "\n",
    "            formationfactor_line = output_lines[34].split()\n",
    "            formationfactor_array[i][j] = formationfactor_line[-1]\n"
   ]
  },
  {
   "cell_type": "code",
   "execution_count": 118,
   "metadata": {},
   "outputs": [],
   "source": [
    "permeability_means = np.nanmean(permeability_array, axis=1)\n",
    "formationfactor_means = np.nanmean(formationfactor_array, axis=1)\n",
    "porosity_means = np.nanmean(porosity_array, axis=1)"
   ]
  },
  {
   "cell_type": "code",
   "execution_count": 129,
   "metadata": {},
   "outputs": [
    {
     "data": {
      "image/png": "[encoded data removed]",
      "text/plain": [
       "<Figure size 432x288 with 1 Axes>"
      ]
     },
     "metadata": {
      "needs_background": "light"
     },
     "output_type": "display_data"
    }
   ],
   "source": [
    "# What is the best way to set the ylim? I did it as you see below but not too happy with it. \n",
    "\n",
    "plt.scatter(networks_sizes, permeability_means, )\n",
    "plt.xlabel('Network Sizes')\n",
    "plt.ylabel(' Permeability (m2)')\n",
    "# I set mt y axis this way\n",
    "plt.ylim(0.99*min(permeability_means), 1.01*max(permeability_means))\n",
    "plt.show()"
   ]
  },
  {
   "cell_type": "code",
   "execution_count": null,
   "metadata": {},
   "outputs": [],
   "source": [
    "plt.scatter(networks_sizes, formationfactor_means)\n",
    "plt.xlabel('Network Sizes')\n",
    "plt.ylabel('Formation Factor')\n",
    "plt.ylim(0.99*min(formationfactor_means), 1.01*max(formationfactor_means))\n",
    "plt.show()\n"
   ]
  },
  {
   "cell_type": "code",
   "execution_count": null,
   "metadata": {},
   "outputs": [],
   "source": [
    "plt.scatter(networks_sizes, porosity_means)\n",
    "plt.xlabel('Network Sizes')\n",
    "plt.ylabel('Porosity (%)')\n",
    "plt.ylim(0.99*min(porosity_means), 1.01*max(porosity_means))\n",
    "plt.show()"
   ]
  },
  {
   "cell_type": "code",
   "execution_count": 10,
   "metadata": {},
   "outputs": [
    {
     "data": {
      "text/plain": [
       "datetime.timedelta(seconds=3094, microseconds=372110)"
      ]
     },
     "execution_count": 10,
     "metadata": {},
     "output_type": "execute_result"
    }
   ],
   "source": [
    "endtime= datetime.datetime.now()\n",
    "endtime -starttime"
   ]
  },
  {
   "cell_type": "code",
   "execution_count": null,
   "metadata": {},
   "outputs": [],
   "source": [
    "# Matlab took around 4200 seconds"
   ]
  }
 ],
 "metadata": {
  "kernelspec": {
   "display_name": "Python 3",
   "language": "python",
   "name": "python3"
  },
  "language_info": {
   "codemirror_mode": {
    "name": "ipython",
    "version": 3
   },
   "file_extension": ".py",
   "mimetype": "text/x-python",
   "name": "python",
   "nbconvert_exporter": "python",
   "pygments_lexer": "ipython3",
   "version": "3.7.1"
  }
 },
 "nbformat": 4,
 "nbformat_minor": 2
}
